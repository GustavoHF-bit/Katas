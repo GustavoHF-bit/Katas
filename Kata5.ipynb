{
  "cells": [
    {
      "cell_type": "markdown",
      "metadata": {},
      "source": [
        "# Ejercicio1 - Utilizar operadores aritméticos"
      ]
    },
    {
      "cell_type": "markdown",
      "metadata": {},
      "source": [
        "### Operadores aritméticos en Python\n",
        "Python proporciona operadores aritméticos comunes para que puedas realizar operaciones matemáticas en tu código. Estos incluyen las cuatro operaciones principales de suma, resta, multiplicación y división.\n",
        "\n",
        "Exploremos cómo podemos crear un programa que pueda calcular la distancia entre dos planetas.  Comenzaremos usando dos distancias de planetas: Tierra (149.597.870 km) y Júpiter (778.547.200 km).\n",
        "\n",
        "> **TIP**\n",
        "> Dedica unos minutos a tratar de encontrar una solución. Luego desplázate hacia abajo hasta la parte inferior para ver si has logrado compilar el programa de acuerdo con las especificaciones.\n",
        "\n",
        "**Nota:** Quita las comas cuando uses los valores."
      ]
    },
    {
      "cell_type": "code",
      "execution_count": 10,
      "metadata": {},
      "outputs": [
        {
          "name": "stdout",
          "output_type": "stream",
          "text": [
            "La distancia entre la tierra y Jupiter es de 628949330 km\n"
          ]
        }
      ],
      "source": [
        "# Crear variables para almacenar las dos distancias\n",
        "# ¡Asegúrate de quitar las comas!\n",
        "distearth=149597870\n",
        "distjup=778547200\n",
        "diffdist=distjup-distearth\n",
        "print(\"La distancia entre la tierra y Jupiter es de\",diffdist,\"km\")\n"
      ]
    },
    {
      "cell_type": "markdown",
      "metadata": {},
      "source": [
        "### Realizar la operación\n",
        "\n",
        "Con los valores obtenidos, es el momento de añadir el código para realizar la operación. Restarás el primer planeta del segundo para determinar la distancia en kilómetros. A continuación, puedes convertir la distancia del kilómetro en millas multiplicándola por `0.621`."
      ]
    },
    {
      "cell_type": "code",
      "execution_count": 12,
      "metadata": {},
      "outputs": [
        {
          "name": "stdout",
          "output_type": "stream",
          "text": [
            "La distancia entre la tierra y Jupiter es de 390577533.93 millas\n"
          ]
        }
      ],
      "source": [
        "# Calcular la distancia entre planetas\n",
        "print(\"La distancia entre la tierra y Jupiter es de\",diffdist*0.621,\"millas\")"
      ]
    },
    {
      "cell_type": "markdown",
      "metadata": {},
      "source": [
        "## Ejercicio 2: convierte cadenas en números y usa valores absolutos\n",
        "\n",
        "### Crear una aplicación para trabajar con números y entrada de usuario\n",
        "Con frecuencia, deberás convertir los valores de cadena en números para realizar correctamente diferentes operaciones o determinar el valor absoluto de un número.\n",
        "\n",
        "Para crear nuestra aplicación, queremos leer la distancia del sol para dos planetas, y luego mostrar la distancia entre los planetas. Haremos esto usando `input` para leer los valores, `int` para convertir a entero y luego `abs` para convertir el resultado en su valor absoluto."
      ]
    },
    {
      "cell_type": "markdown",
      "metadata": {},
      "source": [
        "### Lee los valores\n",
        "Usando `input`, agrega el código para leer la distancia del sol para cada planeta, considerando 2 planetas."
      ]
    },
    {
      "cell_type": "code",
      "execution_count": 18,
      "metadata": {},
      "outputs": [],
      "source": [
        "# Almacenar las entradas del usuario\n",
        "#Pista: variable = input(\"¿Cuál es tu nombre?\")\n",
        "distearth=input(\"Insertar la distancia de la tierra al sol: \")\n",
        "distjup=input(\"Insertar la distancia de la jupiter al sol: \")"
      ]
    },
    {
      "cell_type": "markdown",
      "metadata": {},
      "source": [
        "### Convertir a número\n",
        "Debido a que `input` devuelve valores de cadena, necesitamos convertirlos en números. Para nuestro ejemplo, usaremos `int`"
      ]
    },
    {
      "cell_type": "code",
      "execution_count": 19,
      "metadata": {},
      "outputs": [],
      "source": [
        "# Convierte las cadenas de ambos planetas a números enteros\n",
        "distearth=int(distearth)\n",
        "distjup=int(distjup)"
      ]
    },
    {
      "cell_type": "markdown",
      "metadata": {},
      "source": [
        "### Realizar el cálculo y convertir a valor absoluto\n",
        "\n",
        "Con los valores almacenados como números, ahora puedes agregar el código para realizar el cálculo, restando el primer planeta del segundo. Debido a que el segundo planeta podría ser un número mayor, usarás `abs` para convertirlo a un valor absoluto. También agregarás el código para mostrar el resultado en millas multiplicando la distancia del kilómetro por 0.621"
      ]
    },
    {
      "cell_type": "code",
      "execution_count": 20,
      "metadata": {},
      "outputs": [
        {
          "name": "stdout",
          "output_type": "stream",
          "text": [
            "La distancia entre la tierra y Jupiter es de 0 km\n",
            "La distancia entre la tierra y Jupiter es de 0.0 millas\n"
          ]
        }
      ],
      "source": [
        "# Realizar el cálculo y determinar el valor absoluto\n",
        "diffdist=abs(distearth-distjup)\n",
        "print(\"La distancia entre la tierra y Jupiter es de\",diffdist,\"km\")\n",
        "print(\"La distancia entre la tierra y Jupiter es de\",diffdist*0.621,\"millas\")\n",
        "\n",
        "# Convertir de KM a Millas"
      ]
    },
    {
      "cell_type": "markdown",
      "metadata": {},
      "source": [
        "### Prueba tu aplicación\n",
        "Para probar el proyecto, ejecuta tu notebook. En la parte superior de vscode surgirá un cuadro de diálogo para que proporciones las distancias. Puede utilizar los datos de la tabla siguiente:\n",
        "\n",
        "| Planeta  | Distancia al sol |\n",
        "| ------- | ----------------- |\n",
        "| Mercurio | 57900000          |\n",
        "| Venus   | 108200000         |\n",
        "| Tierra   | 149600000         |\n",
        "| Marte    | 227900000         |\n",
        "| Júpiter | 778600000         |\n",
        "| Saturno  | 1433500000        |\n",
        "| Urano  | 2872500000        |\n",
        "| Neptuno | 4495100000        |"
      ]
    },
    {
      "cell_type": "code",
      "execution_count": 22,
      "metadata": {},
      "outputs": [
        {
          "name": "stdout",
          "output_type": "stream",
          "text": [
            "La distancia entre Mercurio y Venus 50300000 km\n",
            "La distancia entre Mercurio y Venus 31236300.0 millas\n",
            "La distancia entre Mercurio y Tierra 91700000 km\n",
            "La distancia entre Mercurio y Tierra 56945700.0 millas\n",
            "La distancia entre Mercurio y Marte 170000000 km\n",
            "La distancia entre Mercurio y Marte 105570000.0 millas\n",
            "La distancia entre Mercurio y Júpiter 720700000 km\n",
            "La distancia entre Mercurio y Júpiter 447554700.0 millas\n",
            "La distancia entre Mercurio y Saturno 1375600000 km\n",
            "La distancia entre Mercurio y Saturno 854247600.0 millas\n",
            "La distancia entre Mercurio y Urano 2814600000 km\n",
            "La distancia entre Mercurio y Urano 1747866600.0 millas\n",
            "La distancia entre Mercurio y Neptuno 4437200000 km\n",
            "La distancia entre Mercurio y Neptuno 2755501200.0 millas\n",
            "La distancia entre Venus y Mercurio 50300000 km\n",
            "La distancia entre Venus y Mercurio 31236300.0 millas\n",
            "La distancia entre Venus y Tierra 41400000 km\n",
            "La distancia entre Venus y Tierra 25709400.0 millas\n",
            "La distancia entre Venus y Marte 119700000 km\n",
            "La distancia entre Venus y Marte 74333700.0 millas\n",
            "La distancia entre Venus y Júpiter 670400000 km\n",
            "La distancia entre Venus y Júpiter 416318400.0 millas\n",
            "La distancia entre Venus y Saturno 1325300000 km\n",
            "La distancia entre Venus y Saturno 823011300.0 millas\n",
            "La distancia entre Venus y Urano 2764300000 km\n",
            "La distancia entre Venus y Urano 1716630300.0 millas\n",
            "La distancia entre Venus y Neptuno 4386900000 km\n",
            "La distancia entre Venus y Neptuno 2724264900.0 millas\n",
            "La distancia entre Tierra y Mercurio 91700000 km\n",
            "La distancia entre Tierra y Mercurio 56945700.0 millas\n",
            "La distancia entre Tierra y Venus 41400000 km\n",
            "La distancia entre Tierra y Venus 25709400.0 millas\n",
            "La distancia entre Tierra y Marte 78300000 km\n",
            "La distancia entre Tierra y Marte 48624300.0 millas\n",
            "La distancia entre Tierra y Júpiter 629000000 km\n",
            "La distancia entre Tierra y Júpiter 390609000.0 millas\n",
            "La distancia entre Tierra y Saturno 1283900000 km\n",
            "La distancia entre Tierra y Saturno 797301900.0 millas\n",
            "La distancia entre Tierra y Urano 2722900000 km\n",
            "La distancia entre Tierra y Urano 1690920900.0 millas\n",
            "La distancia entre Tierra y Neptuno 4345500000 km\n",
            "La distancia entre Tierra y Neptuno 2698555500.0 millas\n",
            "La distancia entre Marte y Mercurio 170000000 km\n",
            "La distancia entre Marte y Mercurio 105570000.0 millas\n",
            "La distancia entre Marte y Venus 119700000 km\n",
            "La distancia entre Marte y Venus 74333700.0 millas\n",
            "La distancia entre Marte y Tierra 78300000 km\n",
            "La distancia entre Marte y Tierra 48624300.0 millas\n",
            "La distancia entre Marte y Júpiter 550700000 km\n",
            "La distancia entre Marte y Júpiter 341984700.0 millas\n",
            "La distancia entre Marte y Saturno 1205600000 km\n",
            "La distancia entre Marte y Saturno 748677600.0 millas\n",
            "La distancia entre Marte y Urano 2644600000 km\n",
            "La distancia entre Marte y Urano 1642296600.0 millas\n",
            "La distancia entre Marte y Neptuno 4267200000 km\n",
            "La distancia entre Marte y Neptuno 2649931200.0 millas\n",
            "La distancia entre Júpiter y Mercurio 720700000 km\n",
            "La distancia entre Júpiter y Mercurio 447554700.0 millas\n",
            "La distancia entre Júpiter y Venus 670400000 km\n",
            "La distancia entre Júpiter y Venus 416318400.0 millas\n",
            "La distancia entre Júpiter y Tierra 629000000 km\n",
            "La distancia entre Júpiter y Tierra 390609000.0 millas\n",
            "La distancia entre Júpiter y Marte 550700000 km\n",
            "La distancia entre Júpiter y Marte 341984700.0 millas\n",
            "La distancia entre Júpiter y Saturno 654900000 km\n",
            "La distancia entre Júpiter y Saturno 406692900.0 millas\n",
            "La distancia entre Júpiter y Urano 2093900000 km\n",
            "La distancia entre Júpiter y Urano 1300311900.0 millas\n",
            "La distancia entre Júpiter y Neptuno 3716500000 km\n",
            "La distancia entre Júpiter y Neptuno 2307946500.0 millas\n",
            "La distancia entre Saturno y Mercurio 1375600000 km\n",
            "La distancia entre Saturno y Mercurio 854247600.0 millas\n",
            "La distancia entre Saturno y Venus 1325300000 km\n",
            "La distancia entre Saturno y Venus 823011300.0 millas\n",
            "La distancia entre Saturno y Tierra 1283900000 km\n",
            "La distancia entre Saturno y Tierra 797301900.0 millas\n",
            "La distancia entre Saturno y Marte 1205600000 km\n",
            "La distancia entre Saturno y Marte 748677600.0 millas\n",
            "La distancia entre Saturno y Júpiter 654900000 km\n",
            "La distancia entre Saturno y Júpiter 406692900.0 millas\n",
            "La distancia entre Saturno y Urano 1439000000 km\n",
            "La distancia entre Saturno y Urano 893619000.0 millas\n",
            "La distancia entre Saturno y Neptuno 3061600000 km\n",
            "La distancia entre Saturno y Neptuno 1901253600.0 millas\n",
            "La distancia entre Urano y Mercurio 2814600000 km\n",
            "La distancia entre Urano y Mercurio 1747866600.0 millas\n",
            "La distancia entre Urano y Venus 2764300000 km\n",
            "La distancia entre Urano y Venus 1716630300.0 millas\n",
            "La distancia entre Urano y Tierra 2722900000 km\n",
            "La distancia entre Urano y Tierra 1690920900.0 millas\n",
            "La distancia entre Urano y Marte 2644600000 km\n",
            "La distancia entre Urano y Marte 1642296600.0 millas\n",
            "La distancia entre Urano y Júpiter 2093900000 km\n",
            "La distancia entre Urano y Júpiter 1300311900.0 millas\n",
            "La distancia entre Urano y Saturno 1439000000 km\n",
            "La distancia entre Urano y Saturno 893619000.0 millas\n",
            "La distancia entre Urano y Neptuno 1622600000 km\n",
            "La distancia entre Urano y Neptuno 1007634600.0 millas\n",
            "La distancia entre Neptuno y Mercurio 4437200000 km\n",
            "La distancia entre Neptuno y Mercurio 2755501200.0 millas\n",
            "La distancia entre Neptuno y Venus 4386900000 km\n",
            "La distancia entre Neptuno y Venus 2724264900.0 millas\n",
            "La distancia entre Neptuno y Tierra 4345500000 km\n",
            "La distancia entre Neptuno y Tierra 2698555500.0 millas\n",
            "La distancia entre Neptuno y Marte 4267200000 km\n",
            "La distancia entre Neptuno y Marte 2649931200.0 millas\n",
            "La distancia entre Neptuno y Júpiter 3716500000 km\n",
            "La distancia entre Neptuno y Júpiter 2307946500.0 millas\n",
            "La distancia entre Neptuno y Saturno 3061600000 km\n",
            "La distancia entre Neptuno y Saturno 1901253600.0 millas\n",
            "La distancia entre Neptuno y Urano 1622600000 km\n",
            "La distancia entre Neptuno y Urano 1007634600.0 millas\n"
          ]
        }
      ],
      "source": [
        "#Prueba con listas\n",
        "Distancias=[[\"Mercurio\",57900000],[\"Venus\", 108200000],[ \"Tierra\" , 149600000],[ \"Marte\",227900000],[\"Júpiter\",778600000]\n",
        ",[\"Saturno\", 1433500000],\n",
        "[\"Urano\", 2872500000],\n",
        "[\"Neptuno\" ,4495100000]]\n",
        "for i in Distancias:\n",
        "    for j in range(len(Distancias)):\n",
        "        diffdist=abs(i[1]-Distancias[j][1])\n",
        "        if diffdist != 0:\n",
        "            print(\"La distancia entre\",i[0] ,\"y\",Distancias[j][0],diffdist,\"km\")\n",
        "            print(\"La distancia entre\",i[0] ,\"y\",Distancias[j][0],diffdist*0.621,\"millas\")\n"
      ]
    }
  ],
  "metadata": {
    "interpreter": {
      "hash": "502cd6c3b6c9e666d195e1caff9d64ea12bf644e547a4c8fae84812082c54b6f"
    },
    "kernel_info": {
      "name": "conda-env-py37_default-py"
    },
    "kernelspec": {
      "display_name": "py37_default",
      "language": "python",
      "name": "python3"
    },
    "language_info": {
      "codemirror_mode": {
        "name": "ipython",
        "version": 3
      },
      "file_extension": ".py",
      "mimetype": "text/x-python",
      "name": "python",
      "nbconvert_exporter": "python",
      "pygments_lexer": "ipython3",
      "version": "3.10.2"
    },
    "nteract": {
      "version": "nteract-front-end@1.0.0"
    },
    "orig_nbformat": 4
  },
  "nbformat": 4,
  "nbformat_minor": 2
}
